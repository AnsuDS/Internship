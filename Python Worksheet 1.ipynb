{
 "cells": [
  {
   "cell_type": "code",
   "execution_count": null,
   "id": "bff62146",
   "metadata": {},
   "outputs": [],
   "source": [
    "#Write a python program to find the factorial of a number"
   ]
  },
  {
   "cell_type": "code",
   "execution_count": 5,
   "id": "de1a1888",
   "metadata": {},
   "outputs": [],
   "source": [
    "import math"
   ]
  },
  {
   "cell_type": "code",
   "execution_count": 6,
   "id": "51c3382b",
   "metadata": {},
   "outputs": [],
   "source": [
    "n=5"
   ]
  },
  {
   "cell_type": "code",
   "execution_count": 7,
   "id": "6d3b58a9",
   "metadata": {},
   "outputs": [],
   "source": [
    "factorial = math.factorial(n)"
   ]
  },
  {
   "cell_type": "code",
   "execution_count": 8,
   "id": "a11339c5",
   "metadata": {},
   "outputs": [
    {
     "name": "stdout",
     "output_type": "stream",
     "text": [
      "120\n"
     ]
    }
   ],
   "source": [
    "print(factorial) "
   ]
  },
  {
   "cell_type": "code",
   "execution_count": null,
   "id": "50930580",
   "metadata": {},
   "outputs": [],
   "source": []
  },
  {
   "cell_type": "code",
   "execution_count": null,
   "id": "5ad219dc",
   "metadata": {},
   "outputs": [],
   "source": [
    "#Write a python program to find whether a number is prime or composite"
   ]
  },
  {
   "cell_type": "code",
   "execution_count": 18,
   "id": "5d4b2eb9",
   "metadata": {},
   "outputs": [
    {
     "name": "stdout",
     "output_type": "stream",
     "text": [
      "Enter the number21\n"
     ]
    }
   ],
   "source": [
    "num=int(input(\"Enter the number\")) "
   ]
  },
  {
   "cell_type": "code",
   "execution_count": 19,
   "id": "ff273f5b",
   "metadata": {},
   "outputs": [
    {
     "name": "stdout",
     "output_type": "stream",
     "text": [
      "21 is a prime number\n"
     ]
    }
   ],
   "source": [
    "if num>1: \n",
    "    for x in range(2,num): \n",
    "        if num%x==0: \n",
    "            print(num,\" is a composite number\") \n",
    "            break \n",
    "        else: \n",
    "            print(num, \"is a prime number\") \n",
    "            break \n",
    "    else: \n",
    "        print(num,' is a prime number') \n",
    "else: \n",
    "    print(num,\" is a composite number\")"
   ]
  },
  {
   "cell_type": "code",
   "execution_count": null,
   "id": "06d4bf79",
   "metadata": {},
   "outputs": [],
   "source": []
  },
  {
   "cell_type": "code",
   "execution_count": null,
   "id": "2e278d17",
   "metadata": {},
   "outputs": [],
   "source": [
    "#Write a python program to check whether a given string is palindrome or not"
   ]
  },
  {
   "cell_type": "code",
   "execution_count": 23,
   "id": "92367e87",
   "metadata": {},
   "outputs": [
    {
     "name": "stdout",
     "output_type": "stream",
     "text": [
      "Enter a string:madam\n",
      "The string is a palindrome\n"
     ]
    }
   ],
   "source": [
    "string=input((\"Enter a string:\"))\n",
    "if(string==string[::-1]):\n",
    "      print(\"The string is a palindrome\")\n",
    "else:\n",
    "      print(\"Not a palindrome\")"
   ]
  },
  {
   "cell_type": "code",
   "execution_count": 24,
   "id": "06aac9e1",
   "metadata": {},
   "outputs": [
    {
     "name": "stdout",
     "output_type": "stream",
     "text": [
      "Enter a string:master\n",
      "Not a palindrome\n"
     ]
    }
   ],
   "source": [
    "string=input((\"Enter a string:\"))\n",
    "if(string==string[::-1]):\n",
    "      print(\"The string is a palindrome\")\n",
    "else:\n",
    "      print(\"Not a palindrome\")"
   ]
  },
  {
   "cell_type": "code",
   "execution_count": null,
   "id": "906dd4c4",
   "metadata": {},
   "outputs": [],
   "source": []
  },
  {
   "cell_type": "code",
   "execution_count": 25,
   "id": "ad6e1ce9",
   "metadata": {},
   "outputs": [],
   "source": [
    "#Write a Python program to get the third side of right-angled triangle from two given sides"
   ]
  },
  {
   "cell_type": "code",
   "execution_count": 8,
   "id": "9bfa0524",
   "metadata": {},
   "outputs": [
    {
     "name": "stdout",
     "output_type": "stream",
     "text": [
      "3\n",
      "4\n",
      "5\n"
     ]
    }
   ],
   "source": [
    "a = int(input())\n",
    "b = int(input())\n",
    "c = (a ** 2 + b ** 2) ** 0.5\n",
    "print(int(c))"
   ]
  },
  {
   "cell_type": "code",
   "execution_count": null,
   "id": "0f8bbc3c",
   "metadata": {},
   "outputs": [],
   "source": []
  },
  {
   "cell_type": "code",
   "execution_count": 9,
   "id": "a27ed616",
   "metadata": {},
   "outputs": [],
   "source": [
    "#Write a python program to print the frequency of each of the characters present in a given string"
   ]
  },
  {
   "cell_type": "code",
   "execution_count": 12,
   "id": "7cab3998",
   "metadata": {},
   "outputs": [
    {
     "name": "stdout",
     "output_type": "stream",
     "text": [
      "Enter the string: hello world\n",
      "{'h': 1, 'e': 1, 'l': 3, 'o': 2, ' ': 1, 'w': 1, 'r': 1, 'd': 1}\n"
     ]
    }
   ],
   "source": [
    "str1 = input (\"Enter the string: \")\n",
    "d = dict()\n",
    "for c in str1:\n",
    "    if c in d:\n",
    "        d[c] = d[c] + 1\n",
    "    else:\n",
    "        d[c] = 1\n",
    "print(d)"
   ]
  },
  {
   "cell_type": "code",
   "execution_count": null,
   "id": "9915fa54",
   "metadata": {},
   "outputs": [],
   "source": []
  },
  {
   "cell_type": "code",
   "execution_count": null,
   "id": "db7d4046",
   "metadata": {},
   "outputs": [],
   "source": []
  },
  {
   "cell_type": "code",
   "execution_count": null,
   "id": "1ef976f0",
   "metadata": {},
   "outputs": [],
   "source": []
  }
 ],
 "metadata": {
  "kernelspec": {
   "display_name": "Python 3",
   "language": "python",
   "name": "python3"
  },
  "language_info": {
   "codemirror_mode": {
    "name": "ipython",
    "version": 3
   },
   "file_extension": ".py",
   "mimetype": "text/x-python",
   "name": "python",
   "nbconvert_exporter": "python",
   "pygments_lexer": "ipython3",
   "version": "3.8.8"
  }
 },
 "nbformat": 4,
 "nbformat_minor": 5
}
